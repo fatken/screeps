{
 "cells": [
  {
   "cell_type": "code",
   "execution_count": 2,
   "metadata": {
    "collapsed": true
   },
   "outputs": [],
   "source": [
    "import numpy as np\n",
    "import matplotlib.pyplot as plt"
   ]
  },
  {
   "cell_type": "code",
   "execution_count": 19,
   "metadata": {
    "collapsed": false
   },
   "outputs": [
    {
     "name": "stdout",
     "output_type": "stream",
     "text": [
      "body size [ 3  6  9 12 15 18 21 24 27 30]\n",
      "creep cost [  200.   400.   600.   800.  1000.  1200.  1400.  1600.  1800.  2000.]\n",
      "ticks increased [ 200.  100.   66.   50.   40.   33.   28.   25.   22.   20.]\n",
      "unceiled [ 26.66666667  26.66666667  26.66666667  26.66666667  26.66666667\n",
      "  26.66666667  26.66666667  26.66666667  26.66666667  26.66666667]\n",
      "[ 27.  27.  27.  27.  27.  27.  27.  27.  27.  27.]\n"
     ]
    },
    {
     "data": {
      "image/png": "[encoded data removed]",
      "text/plain": [
       "<matplotlib.figure.Figure at 0x105d44cc0>"
      ]
     },
     "metadata": {},
     "output_type": "display_data"
    }
   ],
   "source": [
    "numOfParts = 3\n",
    "\n",
    "\n",
    "bodySize = np.arange(3, 31, 3)\n",
    "creepCost = bodySize/3 * 200\n",
    "\n",
    "print('body size', bodySize)\n",
    "print('creep cost', creepCost)\n",
    "ticksIncreased = np.floor(600/ bodySize)\n",
    "print('ticks increased', ticksIncreased)\n",
    "print('unceiled', creepCost / 2.5 / bodySize)\n",
    "energyRequired = np.ceil(creepCost / 2.5 / bodySize)\n",
    "print(energyRequired)\n",
    "#energyCost = ()\n",
    "plt.figure()\n",
    "plt.plot(bodySize, ticksIncreased, label = 'ticksIncreased')\n",
    "plt.plot(bodySize, energyRequired, label = 'energyRequired')\n",
    "plt.xlabel('body size')\n",
    "plt.legend()\n",
    "plt.show()"
   ]
  },
  {
   "cell_type": "markdown",
   "metadata": {},
   "source": [
    "consume energy: 27\n",
    "Ticks increase: 40\n",
    "\n",
    "252 - 225 = 27\n",
    "837 - 797 = 40\n",
    "\n",
    "Ticks to live = 1500\n",
    "creep cost: 1000\n",
    "\n",
    "cost per tick: 0.6666"
   ]
  },
  {
   "cell_type": "code",
   "execution_count": 20,
   "metadata": {
    "collapsed": false
   },
   "outputs": [
    {
     "data": {
      "text/plain": [
       "27"
      ]
     },
     "execution_count": 20,
     "metadata": {},
     "output_type": "execute_result"
    }
   ],
   "source": [
    "252 - 225"
   ]
  },
  {
   "cell_type": "code",
   "execution_count": 21,
   "metadata": {
    "collapsed": false
   },
   "outputs": [
    {
     "data": {
      "text/plain": [
       "38"
      ]
     },
     "execution_count": 21,
     "metadata": {},
     "output_type": "execute_result"
    }
   ],
   "source": [
    "835 - 797"
   ]
  },
  {
   "cell_type": "code",
   "execution_count": 22,
   "metadata": {
    "collapsed": false
   },
   "outputs": [
    {
     "data": {
      "text/plain": [
       "0.6666666666666666"
      ]
     },
     "execution_count": 22,
     "metadata": {},
     "output_type": "execute_result"
    }
   ],
   "source": [
    "1000/1500"
   ]
  },
  {
   "cell_type": "code",
   "execution_count": 23,
   "metadata": {
    "collapsed": false
   },
   "outputs": [
    {
     "data": {
      "text/plain": [
       "0.675"
      ]
     },
     "execution_count": 23,
     "metadata": {},
     "output_type": "execute_result"
    }
   ],
   "source": [
    "27/40"
   ]
  }
 ],
 "metadata": {
  "kernelspec": {
   "display_name": "Python 3",
   "language": "python",
   "name": "python3"
  },
  "language_info": {
   "codemirror_mode": {
    "name": "ipython",
    "version": 3
   },
   "file_extension": ".py",
   "mimetype": "text/x-python",
   "name": "python",
   "nbconvert_exporter": "python",
   "pygments_lexer": "ipython3",
   "version": "3.5.2"
  }
 },
 "nbformat": 4,
 "nbformat_minor": 0
}
